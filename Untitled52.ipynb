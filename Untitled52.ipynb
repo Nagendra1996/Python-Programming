{
  "nbformat": 4,
  "nbformat_minor": 0,
  "metadata": {
    "colab": {
      "name": "Untitled52.ipynb",
      "provenance": []
    },
    "kernelspec": {
      "name": "python3",
      "display_name": "Python 3"
    }
  },
  "cells": [
    {
      "cell_type": "code",
      "metadata": {
        "colab": {
          "base_uri": "https://localhost:8080/"
        },
        "id": "sAxjvDKRLisi",
        "outputId": "7c1914a0-ac89-497e-dc6a-b65873aa1362"
      },
      "source": [
        "num1=int(input())\r\n",
        "num2=int(input())\r\n",
        "print(num1+num2)"
      ],
      "execution_count": null,
      "outputs": [
        {
          "output_type": "stream",
          "text": [
            "6\n",
            "7\n",
            "13\n"
          ],
          "name": "stdout"
        }
      ]
    },
    {
      "cell_type": "code",
      "metadata": {
        "colab": {
          "base_uri": "https://localhost:8080/"
        },
        "id": "A-DLFsoFMGNp",
        "outputId": "ff695868-d252-4549-83e3-f43b4ee004a6"
      },
      "source": [
        "num1=float(input())\r\n",
        "num2=float(input())\r\n",
        "print(num1+num2)\r\n"
      ],
      "execution_count": null,
      "outputs": [
        {
          "output_type": "stream",
          "text": [
            "2.3\n",
            "4.5\n",
            "6.8\n"
          ],
          "name": "stdout"
        }
      ]
    },
    {
      "cell_type": "code",
      "metadata": {
        "colab": {
          "base_uri": "https://localhost:8080/"
        },
        "id": "8FBMIp_uMVOC",
        "outputId": "5afc63dc-4b3c-47a7-a442-4df27649eeb4"
      },
      "source": [
        "num1=str(input())\r\n",
        "print(num1)"
      ],
      "execution_count": null,
      "outputs": [
        {
          "output_type": "stream",
          "text": [
            "123\n",
            "123\n"
          ],
          "name": "stdout"
        }
      ]
    },
    {
      "cell_type": "code",
      "metadata": {
        "colab": {
          "base_uri": "https://localhost:8080/"
        },
        "id": "my-Okx8cPQVj",
        "outputId": "2436121f-5ef3-4e96-befc-a4c1ad11b642"
      },
      "source": [
        "print(\"Geeks for geeks\")\r\n",
        "l=[1,2]\r\n",
        "print (l)\r\n"
      ],
      "execution_count": null,
      "outputs": [
        {
          "output_type": "stream",
          "text": [
            "Geeks for geeks\n",
            "[1, 2]\n"
          ],
          "name": "stdout"
        }
      ]
    },
    {
      "cell_type": "code",
      "metadata": {
        "colab": {
          "base_uri": "https://localhost:8080/"
        },
        "id": "LFNhZimEQEOm",
        "outputId": "9f849167-86d4-4afb-e3d3-449d73266acc"
      },
      "source": [
        "print(\"Geeks for geeks\")\r\n",
        "x=5\r\n",
        "print(\"x=\",x)"
      ],
      "execution_count": null,
      "outputs": [
        {
          "output_type": "stream",
          "text": [
            "Geeks for geeks\n",
            "x= 5\n"
          ],
          "name": "stdout"
        }
      ]
    },
    {
      "cell_type": "code",
      "metadata": {
        "colab": {
          "base_uri": "https://localhost:8080/"
        },
        "id": "9LTy0IadQbPx",
        "outputId": "adaf87a5-7477-4790-e5d5-b5913f6374db"
      },
      "source": [
        "print('G','E','F','I')\r\n",
        "print(\"python\",end='@')\r\n",
        "print(\"Geeks for geeks\")"
      ],
      "execution_count": null,
      "outputs": [
        {
          "output_type": "stream",
          "text": [
            "G E F I\n",
            "python@Geeks for geeks\n"
          ],
          "name": "stdout"
        }
      ]
    },
    {
      "cell_type": "code",
      "metadata": {
        "id": "YxEhR-nSRAQs"
      },
      "source": [
        "print(\"green\")\r\n",
        "print(\"geeks\")\r\n",
        "a=[1,2,3,4]\r\n",
        "for i in range(4):\r\n",
        "  print(a[i])\r\n"
      ],
      "execution_count": null,
      "outputs": []
    },
    {
      "cell_type": "code",
      "metadata": {
        "id": "ijBXOnxHRW0D"
      },
      "source": [
        "print(\"welcome to\",end='')\r\n",
        "print(\"geeks for geeks\", end='')\r\n"
      ],
      "execution_count": null,
      "outputs": []
    },
    {
      "cell_type": "code",
      "metadata": {
        "id": "Pz1LIIQWSJ_I"
      },
      "source": [
        "print(\"python\",end='@')\r\n",
        "print(\"email\")"
      ],
      "execution_count": null,
      "outputs": []
    },
    {
      "cell_type": "code",
      "metadata": {
        "id": "6NrOVMl6SZTp"
      },
      "source": [
        "print('G','H','I',sep=\"\")\r\n",
        "print('09','12','2009',sep=\"-\")\r\n",
        "\r\n"
      ],
      "execution_count": null,
      "outputs": []
    },
    {
      "cell_type": "code",
      "metadata": {
        "id": "W6jzJSo-TB8M"
      },
      "source": [
        "print('G','H',sep='',end='')\r\n",
        "print('G')\r\n",
        "print('09','12','2009',sep='-',end='\\n')\r\n",
        "print('abc','def','ghi',sep=\"-\",end=\"\")"
      ],
      "execution_count": null,
      "outputs": []
    },
    {
      "cell_type": "code",
      "metadata": {
        "colab": {
          "base_uri": "https://localhost:8080/"
        },
        "id": "ThA5Onu2UIuT",
        "outputId": "e0aaa688-0749-497d-cda8-e48d3b6445c9"
      },
      "source": [
        "print(\"Geeks:%2d, Portal:%5.2f\" %(1,0.533))"
      ],
      "execution_count": null,
      "outputs": [
        {
          "output_type": "stream",
          "text": [
            "Geeks: 1, Portal: 0.53\n"
          ],
          "name": "stdout"
        }
      ]
    },
    {
      "cell_type": "code",
      "metadata": {
        "colab": {
          "base_uri": "https://localhost:8080/"
        },
        "id": "iXqq1cEFVJrm",
        "outputId": "5f7a5f14-6728-44b3-f99d-941efaf0e0c4"
      },
      "source": [
        "print(\"TotalStudents:%3d,Boys=%2d\"%(1,2.4))"
      ],
      "execution_count": null,
      "outputs": [
        {
          "output_type": "stream",
          "text": [
            "TotalStudents:  1,Boys= 2\n"
          ],
          "name": "stdout"
        }
      ]
    },
    {
      "cell_type": "code",
      "metadata": {
        "id": "rW1LX_8WV4ad"
      },
      "source": [
        "print('I am a {}for\"{}\"'.format(\"geeks\" , \"eeks\"))\r\n",
        "print('{0},{1}'.format(\"ekks\",\"abc\"))\r\n",
        "print('{1},{0}'.format(\"three\",\"four\"))"
      ],
      "execution_count": null,
      "outputs": []
    },
    {
      "cell_type": "code",
      "metadata": {
        "id": "7bT0UsubYSpi"
      },
      "source": [
        "print('Number of portals is {0},{1},and {other}'\r\n",
        ".format('geeks','for',other='abc'))\r\n"
      ],
      "execution_count": null,
      "outputs": []
    },
    {
      "cell_type": "code",
      "metadata": {
        "id": "Ly3LzKqlaMSb"
      },
      "source": [
        "print(\"second Argument:{1:3d},firstone:{0:7.2f}\"\r\n",
        ".format(12,34))"
      ],
      "execution_count": null,
      "outputs": []
    },
    {
      "cell_type": "code",
      "metadata": {
        "id": "yOxjqg4ra-zf",
        "colab": {
          "base_uri": "https://localhost:8080/"
        },
        "outputId": "61eb13ee-169e-426b-9476-a64223eddcb2"
      },
      "source": [
        "# Python Program for \r\n",
        "# Creation of String \r\n",
        "\r\n",
        "# Creating a String \r\n",
        "# with single Quotes \r\n",
        "String1 = 'Welcome to the Geeks World'\r\n",
        "print(\"String with the use of Single Quotes: \") \r\n",
        "print(String1) \r\n",
        "\r\n",
        "# Creating a String \r\n",
        "# with double Quotes \r\n",
        "String1 = \"I'm a Geek\"\r\n",
        "print(\"\\nString with the use of Double Quotes: \") \r\n",
        "print(String1) \r\n",
        "\r\n",
        "# Creating a String \r\n",
        "# with triple Quotes \r\n",
        "String1 = '''I'm a Geek and I live in a world of \"Geeks\"'''\r\n",
        "print(\"\\nString with the use of Triple Quotes: \") \r\n",
        "print(String1) \r\n",
        "\r\n",
        "# Creating String with triple \r\n",
        "# Quotes allows multiple lines \r\n",
        "String1 = '''Geeks \r\n",
        "\t\t\tFor \r\n",
        "\t\t\tLife'''\r\n",
        "print(\"\\nCreating a multiline String: \") \r\n",
        "print(String1) \r\n"
      ],
      "execution_count": null,
      "outputs": [
        {
          "output_type": "stream",
          "text": [
            "String with the use of Single Quotes: \n",
            "Welcome to the Geeks World\n",
            "\n",
            "String with the use of Double Quotes: \n",
            "I'm a Geek\n",
            "\n",
            "String with the use of Triple Quotes: \n",
            "I'm a Geek and I live in a world of \"Geeks\"\n",
            "\n",
            "Creating a multiline String: \n",
            "Geeks \n",
            "\t\t\tFor \n",
            "\t\t\tLife\n"
          ],
          "name": "stdout"
        }
      ]
    },
    {
      "cell_type": "code",
      "metadata": {
        "colab": {
          "base_uri": "https://localhost:8080/"
        },
        "id": "X7OpZBzLzjRs",
        "outputId": "90bd9c66-62e6-4d91-d0c7-b823e0968334"
      },
      "source": [
        "# Python Program to Access \r\n",
        "# characters of String \r\n",
        "\r\n",
        "String1 = \"GeeksForGeeks\"\r\n",
        "print(\"Initial String: \") \r\n",
        "print(String1) \r\n",
        "\r\n",
        "# Printing First character \r\n",
        "print(\"\\nFirst character of String is: \") \r\n",
        "print(String1[0]) \r\n",
        "\r\n",
        "# Printing Last character \r\n",
        "print(\"\\nLast character of String is: \") \r\n",
        "print(String1[-1]) \r\n"
      ],
      "execution_count": null,
      "outputs": [
        {
          "output_type": "stream",
          "text": [
            "Initial String: \n",
            "GeeksForGeeks\n",
            "\n",
            "First character of String is: \n",
            "G\n",
            "\n",
            "Last character of String is: \n",
            "s\n"
          ],
          "name": "stdout"
        }
      ]
    },
    {
      "cell_type": "code",
      "metadata": {
        "colab": {
          "base_uri": "https://localhost:8080/"
        },
        "id": "t4YxnEzXzwV0",
        "outputId": "65991408-8238-4909-8166-8a47be5e70df"
      },
      "source": [
        "# Python Program to \r\n",
        "# demonstrate String slicing \r\n",
        "\r\n",
        "# Creating a String \r\n",
        "String1 = \"GeeksForGeeks\"\r\n",
        "print(\"Initial String: \") \r\n",
        "print(String1) \r\n",
        "\r\n",
        "# Printing 3rd to 12th character \r\n",
        "print(\"\\nSlicing characters from 3-12: \") \r\n",
        "print(String1[3:12]) \r\n",
        "\r\n",
        "# Printing characters between \r\n",
        "# 3rd and 2nd last character \r\n",
        "print(\"\\nSlicing characters between \" +\r\n",
        "\t\"3rd and 2nd last character: \") \r\n",
        "print(String1[3:-2]) \r\n"
      ],
      "execution_count": null,
      "outputs": [
        {
          "output_type": "stream",
          "text": [
            "Initial String: \n",
            "GeeksForGeeks\n",
            "\n",
            "Slicing characters from 3-12: \n",
            "ksForGeek\n",
            "\n",
            "Slicing characters between 3rd and 2nd last character: \n",
            "ksForGee\n"
          ],
          "name": "stdout"
        }
      ]
    },
    {
      "cell_type": "code",
      "metadata": {
        "colab": {
          "base_uri": "https://localhost:8080/"
        },
        "id": "rQPoqxq4z-EJ",
        "outputId": "8ac04d61-889a-4b13-823e-928f2ca1deb1"
      },
      "source": [
        "# Python Program to Update \r\n",
        "# entire String \r\n",
        "\r\n",
        "String1 = \"Hello, I'm a Geek\"\r\n",
        "print(\"Initial String: \") \r\n",
        "print(String1) \r\n",
        "\r\n",
        "# Updating a String \r\n",
        "String1 = \"Welcome to the Geek World\"\r\n",
        "print(\"\\nUpdated String: \") \r\n",
        "print(String1) \r\n"
      ],
      "execution_count": null,
      "outputs": [
        {
          "output_type": "stream",
          "text": [
            "Initial String: \n",
            "Hello, I'm a Geek\n",
            "\n",
            "Updated String: \n",
            "Welcome to the Geek World\n"
          ],
          "name": "stdout"
        }
      ]
    },
    {
      "cell_type": "code",
      "metadata": {
        "colab": {
          "base_uri": "https://localhost:8080/"
        },
        "id": "JwDNju0Q0fYv",
        "outputId": "e88c559c-745a-4450-a267-66c7ec939a94"
      },
      "source": [
        "# Python Program for \r\n",
        "# Escape Sequencing \r\n",
        "# of String \r\n",
        "\r\n",
        "# Initial String \r\n",
        "String1 = '''I'm a \"Geek\"'''\r\n",
        "print(\"Initial String with use of Triple Quotes: \") \r\n",
        "print(String1) \r\n",
        "\r\n",
        "# Escaping Single Quote \r\n",
        "String1 = 'I\\'m a \"Geek\"'\r\n",
        "print(\"\\nEscaping Single Quote: \") \r\n",
        "print(String1) \r\n",
        "\r\n",
        "# Escaping Doule Quotes \r\n",
        "String1 = \"I'm a \\\"Geek\\\"\"\r\n",
        "print(\"\\nEscaping Double Quotes: \") \r\n",
        "print(String1) \r\n",
        "\r\n",
        "# Printing Paths with the \r\n",
        "# use of Escape Sequences \r\n",
        "String1 = \"C:\\\\Python\\\\Geeks\\\\\"\r\n",
        "print(\"\\nEscaping Backslashes: \") \r\n",
        "print(String1) \r\n"
      ],
      "execution_count": null,
      "outputs": [
        {
          "output_type": "stream",
          "text": [
            "Initial String with use of Triple Quotes: \n",
            "I'm a \"Geek\"\n",
            "\n",
            "Escaping Single Quote: \n",
            "I'm a \"Geek\"\n",
            "\n",
            "Escaping Double Quotes: \n",
            "I'm a \"Geek\"\n",
            "\n",
            "Escaping Backslashes: \n",
            "C:\\Python\\Geeks\\\n"
          ],
          "name": "stdout"
        }
      ]
    },
    {
      "cell_type": "code",
      "metadata": {
        "colab": {
          "base_uri": "https://localhost:8080/"
        },
        "id": "4nhjvT680rcM",
        "outputId": "5865f8f2-ddd8-4f3f-ca27-7b3811c92998"
      },
      "source": [
        "# Python Program for \r\n",
        "# Formatting of Strings \r\n",
        "\r\n",
        "# Default order \r\n",
        "String1 = \"{} {} {}\".format('Geeks', 'For', 'Life') \r\n",
        "print(\"Print String in default order: \") \r\n",
        "print(String1) \r\n",
        "\r\n",
        "# Positional Formatting \r\n",
        "String1 = \"{1} {0} {2}\".format('Geeks', 'For', 'Life') \r\n",
        "print(\"\\nPrint String in Positional order: \") \r\n",
        "print(String1) \r\n",
        "\r\n",
        "# Keyword Formatting \r\n",
        "String1 = \"{l} {f} {g}\".format(g = 'Geeks', f = 'For', l = 'Life') \r\n",
        "print(\"\\nPrint String in order of Keywords: \") \r\n",
        "print(String1) \r\n"
      ],
      "execution_count": null,
      "outputs": [
        {
          "output_type": "stream",
          "text": [
            "Print String in default order: \n",
            "Geeks For Life\n",
            "\n",
            "Print String in Positional order: \n",
            "For Geeks Life\n",
            "\n",
            "Print String in order of Keywords: \n",
            "Life For Geeks\n"
          ],
          "name": "stdout"
        }
      ]
    },
    {
      "cell_type": "code",
      "metadata": {
        "colab": {
          "base_uri": "https://localhost:8080/"
        },
        "id": "-CLpNrCB00SP",
        "outputId": "d32c5788-f7b4-424a-ec96-8a957f79d680"
      },
      "source": [
        "# Formatting of Integers \r\n",
        "String1 = \"{0:b}\".format(16) \r\n",
        "print(\"\\nBinary representation of 16 is \") \r\n",
        "print(String1) \r\n",
        "\r\n",
        "# Formatting of Floats \r\n",
        "String1 = \"{0:e}\".format(165.6458) \r\n",
        "print(\"\\nExponent representation of 165.6458 is \") \r\n",
        "print(String1) \r\n",
        "\r\n",
        "# Rounding off Integers \r\n",
        "String1 = \"{0:.2f}\".format(1/6) \r\n",
        "print(\"\\none-sixth is : \") \r\n",
        "print(String1) \r\n"
      ],
      "execution_count": null,
      "outputs": [
        {
          "output_type": "stream",
          "text": [
            "\n",
            "Binary representation of 16 is \n",
            "10000\n",
            "\n",
            "Exponent representation of 165.6458 is \n",
            "1.656458e+02\n",
            "\n",
            "one-sixth is : \n",
            "0.17\n"
          ],
          "name": "stdout"
        }
      ]
    },
    {
      "cell_type": "code",
      "metadata": {
        "colab": {
          "base_uri": "https://localhost:8080/"
        },
        "id": "T6Or3cfK1Bkj",
        "outputId": "31e8871a-f529-4fc8-8c35-04e6b917656f"
      },
      "source": [
        "# String alignment \r\n",
        "String1 = \"|{:<10}|{:^10}|{:>10}|\".format('Geeks','for','Geeks') \r\n",
        "print(\"\\nLeft, center and right alignment with Formatting: \") \r\n",
        "print(String1) \r\n",
        "\r\n",
        "# To demonstrate aligning of spaces \r\n",
        "String1 = \"\\n{0:^16} was founded in {1:<4}!\".format(\"GeeksforGeeks\", 2009) \r\n",
        "print(String1) \r\n"
      ],
      "execution_count": null,
      "outputs": [
        {
          "output_type": "stream",
          "text": [
            "\n",
            "Left, center and right alignment with Formatting: \n",
            "|Geeks     |   for    |     Geeks|\n",
            "\n",
            " GeeksforGeeks   was founded in 2009!\n"
          ],
          "name": "stdout"
        }
      ]
    },
    {
      "cell_type": "code",
      "metadata": {
        "colab": {
          "base_uri": "https://localhost:8080/"
        },
        "id": "tOP2kdkb1X8d",
        "outputId": "b580df14-e7c2-47df-8328-f63f36992fbe"
      },
      "source": [
        "# Python Program for \r\n",
        "# Old Style Formatting \r\n",
        "# of Integers \r\n",
        "\r\n",
        "Integer1 = 12.3456789\r\n",
        "print(\"Formatting in 3.2f format: \") \r\n",
        "print('The value of Integer1 is %3.2f' %Integer1) \r\n",
        "print(\"\\nFormatting in 3.4f format: \") \r\n",
        "print('The value of Integer1 is %3.4f' %Integer1) \r\n"
      ],
      "execution_count": null,
      "outputs": [
        {
          "output_type": "stream",
          "text": [
            "Formatting in 3.2f format: \n",
            "The value of Integer1 is 12.35\n",
            "\n",
            "Formatting in 3.4f format: \n",
            "The value of Integer1 is 12.3457\n"
          ],
          "name": "stdout"
        }
      ]
    },
    {
      "cell_type": "code",
      "metadata": {
        "colab": {
          "base_uri": "https://localhost:8080/"
        },
        "id": "M00pMZEE2xpE",
        "outputId": "d0728b15-d1b8-4a43-b879-97b717e9bc2e"
      },
      "source": [
        "# Python program to demonstrate \r\n",
        "# Addition of elements in a List \r\n",
        "\r\n",
        "# Creating a List \r\n",
        "List = [] \r\n",
        "print(\"Initial blank List: \") \r\n",
        "print(List) \r\n",
        "\r\n",
        "# Addition of Elements \r\n",
        "# in the List \r\n",
        "List.append(1) \r\n",
        "List.append(2) \r\n",
        "List.append(4) \r\n",
        "print(\"\\nList after Addition of Three elements: \") \r\n",
        "print(List) \r\n",
        "\r\n",
        "# Adding elements to the List \r\n",
        "# using Iterator \r\n",
        "for i in range(1, 4): \r\n",
        "\tList.append(i) \r\n",
        "print(\"\\nList after Addition of elements from 1-3: \") \r\n",
        "print(List) \r\n",
        "\r\n",
        "# Adding Tuples to the List \r\n",
        "List.append((5, 6)) \r\n",
        "print(\"\\nList after Addition of a Tuple: \") \r\n",
        "print(List) \r\n",
        "\r\n",
        "# Addition of List to a List \r\n",
        "List2 = ['For', 'Geeks'] \r\n",
        "List.append(List2) \r\n",
        "print(\"\\nList after Addition of a List: \") \r\n",
        "print(List) \r\n"
      ],
      "execution_count": null,
      "outputs": [
        {
          "output_type": "stream",
          "text": [
            "Initial blank List: \n",
            "[]\n",
            "\n",
            "List after Addition of Three elements: \n",
            "[1, 2, 4]\n",
            "\n",
            "List after Addition of elements from 1-3: \n",
            "[1, 2, 4, 1, 2, 3]\n",
            "\n",
            "List after Addition of a Tuple: \n",
            "[1, 2, 4, 1, 2, 3, (5, 6)]\n",
            "\n",
            "List after Addition of a List: \n",
            "[1, 2, 4, 1, 2, 3, (5, 6), ['For', 'Geeks']]\n"
          ],
          "name": "stdout"
        }
      ]
    },
    {
      "cell_type": "code",
      "metadata": {
        "colab": {
          "base_uri": "https://localhost:8080/"
        },
        "id": "2ynwuVcr2_Eq",
        "outputId": "8407420f-ba1c-4900-e44d-e807c230ea65"
      },
      "source": [
        "# Python program to demonstrate \r\n",
        "# Addition of elements in a List \r\n",
        "\r\n",
        "# Creating a List \r\n",
        "List = [1,2,3,4] \r\n",
        "print(\"Initial List: \") \r\n",
        "print(List) \r\n",
        "\r\n",
        "# Addition of Element at \r\n",
        "# specific Position \r\n",
        "# (using Insert Method) \r\n",
        "List.insert(3, 12) \r\n",
        "List.insert(0, 'Geeks') \r\n",
        "print(\"\\nList after performing Insert Operation: \") \r\n",
        "print(List) \r\n"
      ],
      "execution_count": null,
      "outputs": [
        {
          "output_type": "stream",
          "text": [
            "Initial List: \n",
            "[1, 2, 3, 4]\n",
            "\n",
            "List after performing Insert Operation: \n",
            "['Geeks', 1, 2, 3, 12, 4]\n"
          ],
          "name": "stdout"
        }
      ]
    },
    {
      "cell_type": "code",
      "metadata": {
        "colab": {
          "base_uri": "https://localhost:8080/"
        },
        "id": "-SvtnNzw3OcA",
        "outputId": "c519cb35-e493-489c-c626-405377b5ca2d"
      },
      "source": [
        "# Python program to demonstrate \r\n",
        "# Addition of elements in a List \r\n",
        "\t\r\n",
        "# Creating a List \r\n",
        "List = [1,2,3,4] \r\n",
        "print(\"Initial List: \") \r\n",
        "print(List) \r\n",
        "\r\n",
        "# Addition of multiple elements \r\n",
        "# to the List at the end \r\n",
        "# (using Extend Method) \r\n",
        "List.extend([8, 'Geeks', 'Always']) \r\n",
        "print(\"\\nList after performing Extend Operation: \") \r\n",
        "print(List) \r\n"
      ],
      "execution_count": null,
      "outputs": [
        {
          "output_type": "stream",
          "text": [
            "Initial List: \n",
            "[1, 2, 3, 4]\n",
            "\n",
            "List after performing Extend Operation: \n",
            "[1, 2, 3, 4, 8, 'Geeks', 'Always']\n"
          ],
          "name": "stdout"
        }
      ]
    },
    {
      "cell_type": "code",
      "metadata": {
        "id": "wveVYq1G4Rtb",
        "colab": {
          "base_uri": "https://localhost:8080/"
        },
        "outputId": "116b7ec5-49dd-46cb-e9a0-e37b5162979f"
      },
      "source": [
        "#Creating an empty Tuple \r\n",
        "Tuple1 = () \r\n",
        "print(\"Initial empty Tuple: \") \r\n",
        "print (Tuple1) \r\n",
        "\r\n",
        "#Creatting a Tuple \r\n",
        "#with the use of string \r\n",
        "Tuple1 = ('Geeks', 'For') \r\n",
        "print(\"\\nTuple with the use of String: \") \r\n",
        "print(Tuple1) \r\n",
        "\r\n",
        "# Creating a Tuple with \r\n",
        "# the use of list \r\n",
        "list1 = [1, 2, 4, 5, 6] \r\n",
        "print(\"\\nTuple using List: \") \r\n",
        "print(tuple(list1)) \r\n",
        "\r\n",
        "#Creating a Tuple \r\n",
        "#with the use of built-in function \r\n",
        "Tuple1 = tuple('Geeks') \r\n",
        "print(\"\\nTuple with the use of function: \") \r\n",
        "print(Tuple1) \r\n"
      ],
      "execution_count": null,
      "outputs": [
        {
          "output_type": "stream",
          "text": [
            "Initial empty Tuple: \n",
            "()\n",
            "\n",
            "Tuple with the use of String: \n",
            "('Geeks', 'For')\n",
            "\n",
            "Tuple using List: \n",
            "(1, 2, 4, 5, 6)\n",
            "\n",
            "Tuple with the use of function: \n",
            "('G', 'e', 'e', 'k', 's')\n"
          ],
          "name": "stdout"
        }
      ]
    }
  ]
}